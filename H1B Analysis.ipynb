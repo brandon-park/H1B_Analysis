{
 "cells": [
  {
   "cell_type": "markdown",
   "metadata": {},
   "source": [
    "# Introduction\n",
    "\n",
    "The H-1B visa is a non-immigrant visa that allows US companies to employ foreign workers in speciality occupations. However, due to the difference in each states, the environment that every foreign worker would face might vary. This analysis aims to evaluate the H-1B visa application of each states to find out the best states for STEM employees. \n",
    "\n",
    "# Purpose \n",
    "\n",
    "* Verify the number of ranked Judo playerFind out the list of states that has most certified H-1B visa application \n",
    "* Check the list of states that has most certified H-1B visa application for STEM job \n",
    "* Identify the normalized salaries between the states by using cost of living index \n",
    "\n",
    "\n",
    "# Index\n",
    "\n",
    "### 1. Data Gathering <br>\n",
    "### 2. Data Cleaning\n",
    "* Drop the missing values\n",
    "* Replace the unnecessary values\n",
    "\n",
    "### 3. Data Analyzing <br>\n",
    "\n",
    "* Top 10 states that have most certified H-1B visa application\n",
    "* Normalize the PREVAILING_WAGE and divide by the cost of living index\n",
    "* Sort out the STEM job and compare the mean PREVAILING_WAGE_NORM_INDEX by states\n",
    "* Plotting the number of STEM jobs by citis on the map"
   ]
  },
  {
   "cell_type": "code",
   "execution_count": 1,
   "metadata": {},
   "outputs": [],
   "source": [
    "# import necessary libraries \n",
    "\n",
    "import pandas as pd\n",
    "import numpy as np\n",
    "import os\n",
    "import json\n",
    "import matplotlib as mpl\n",
    "import matplotlib.pyplot as plt\n",
    "import folium\n",
    "import math\n",
    "import seaborn as sns\n",
    "\n",
    "import conda\n",
    "\n",
    "conda_file_dir = conda.__file__\n",
    "conda_dir = conda_file_dir.split('lib')[0]\n",
    "proj_lib = os.path.join(os.path.join(conda_dir, 'share'), 'proj')\n",
    "os.environ[\"PROJ_LIB\"] = proj_lib\n",
    "\n",
    "from mpl_toolkits.basemap import Basemap\n",
    "\n",
    "from geopy.geocoders import Nominatim\n",
    "%matplotlib inline\n",
    "import warnings\n",
    "warnings.filterwarnings('ignore') "
   ]
  },
  {
   "cell_type": "markdown",
   "metadata": {},
   "source": [
    "## 1. Data Gathering\n",
    "\n",
    "\n",
    "* H-1B visa data are derived from US Office of Foreign Labor Certification (OFLC) annual performance data. We will combine annual data from 2016 to 2020 into 1 CSV file.  \n",
    "\n",
    "* Cost of Living Index data is downloadable from 'worldpopulationreview.com'"
   ]
  },
  {
   "cell_type": "code",
   "execution_count": 2,
   "metadata": {},
   "outputs": [],
   "source": [
    "# listing file name\n",
    "\n",
    "filenames = []\n",
    "for i in range(16,21):\n",
    "    f = (\"H1B_\"+str(i)+\".csv\")\n",
    "    filenames.append(f)   \n",
    "\n",
    "    \n",
    "# listing columns needed\n",
    "\n",
    "features = '''CASE_STATUS,DECISION_DATE,VISA_CLASS,JOB_TITLE,SOC_CODE,SOC_TITLE,EMPLOYER_NAME,WORKSITE_CITY,WORKSITE_COUNTY,WORKSITE_STATE,WORKSITE_POSTAL_CODE,WAGE_RATE_OF_PAY_FROM,WAGE_UNIT_OF_PAY,PREVAILING_WAGE,PW_UNIT_OF_PAY'''\n",
    "features = features.split(',')"
   ]
  },
  {
   "cell_type": "code",
   "execution_count": 3,
   "metadata": {
    "scrolled": true
   },
   "outputs": [],
   "source": [
    "# function to select columns in each CSV file\n",
    "\n",
    "def h1b_col(name):\n",
    "    s = pd.read_csv(name)\n",
    "    s = s[features]\n",
    "    return s\n",
    "\n",
    "\n",
    "# concatenate files in the list\n",
    "\n",
    "#combined_csv = pd.concat([h1b_col(f) for f in filenames ] )\n",
    "#combined_csv.to_csv(\"H1B_5Y.csv\") \n",
    "#combined_csv\n",
    "\n"
   ]
  },
  {
   "cell_type": "code",
   "execution_count": 4,
   "metadata": {},
   "outputs": [
    {
     "data": {
      "text/html": [
       "<div>\n",
       "<style scoped>\n",
       "    .dataframe tbody tr th:only-of-type {\n",
       "        vertical-align: middle;\n",
       "    }\n",
       "\n",
       "    .dataframe tbody tr th {\n",
       "        vertical-align: top;\n",
       "    }\n",
       "\n",
       "    .dataframe thead th {\n",
       "        text-align: right;\n",
       "    }\n",
       "</style>\n",
       "<table border=\"1\" class=\"dataframe\">\n",
       "  <thead>\n",
       "    <tr style=\"text-align: right;\">\n",
       "      <th></th>\n",
       "      <th>Unnamed: 0</th>\n",
       "      <th>CASE_STATUS</th>\n",
       "      <th>DECISION_DATE</th>\n",
       "      <th>VISA_CLASS</th>\n",
       "      <th>JOB_TITLE</th>\n",
       "      <th>SOC_CODE</th>\n",
       "      <th>SOC_TITLE</th>\n",
       "      <th>EMPLOYER_NAME</th>\n",
       "      <th>WORKSITE_CITY</th>\n",
       "      <th>WORKSITE_COUNTY</th>\n",
       "      <th>WORKSITE_STATE</th>\n",
       "      <th>WORKSITE_POSTAL_CODE</th>\n",
       "      <th>WAGE_RATE_OF_PAY_FROM</th>\n",
       "      <th>WAGE_UNIT_OF_PAY</th>\n",
       "      <th>PREVAILING_WAGE</th>\n",
       "      <th>PW_UNIT_OF_PAY</th>\n",
       "    </tr>\n",
       "  </thead>\n",
       "  <tbody>\n",
       "    <tr>\n",
       "      <th>0</th>\n",
       "      <td>0</td>\n",
       "      <td>CERTIFIED-WITHDRAWN</td>\n",
       "      <td>2015-10-16</td>\n",
       "      <td>H-1B</td>\n",
       "      <td>POSTDOCTORAL RESEARCH FELLOW</td>\n",
       "      <td>10-1021.00</td>\n",
       "      <td>BIOCHEMISTS AND BIOPHYSICISTS</td>\n",
       "      <td>UNIVERSITY OF MICHIGAN</td>\n",
       "      <td>ANN ARBOR</td>\n",
       "      <td>WASHTENAW</td>\n",
       "      <td>MI</td>\n",
       "      <td>48109</td>\n",
       "      <td>41,000.00</td>\n",
       "      <td>Year</td>\n",
       "      <td>36,067.00</td>\n",
       "      <td>Year</td>\n",
       "    </tr>\n",
       "    <tr>\n",
       "      <th>1</th>\n",
       "      <td>1</td>\n",
       "      <td>CERTIFIED-WITHDRAWN</td>\n",
       "      <td>2016-01-13</td>\n",
       "      <td>H-1B</td>\n",
       "      <td>CHIEF OPERATING OFFICER</td>\n",
       "      <td>11-1011</td>\n",
       "      <td>CHIEF EXECUTIVES</td>\n",
       "      <td>GOODMAN NETWORKS, INC.</td>\n",
       "      <td>PLANO</td>\n",
       "      <td>COLLIN</td>\n",
       "      <td>TX</td>\n",
       "      <td>75093</td>\n",
       "      <td>400,000.00</td>\n",
       "      <td>Year</td>\n",
       "      <td>242,674.00</td>\n",
       "      <td>Year</td>\n",
       "    </tr>\n",
       "    <tr>\n",
       "      <th>2</th>\n",
       "      <td>2</td>\n",
       "      <td>CERTIFIED-WITHDRAWN</td>\n",
       "      <td>2015-12-10</td>\n",
       "      <td>H-1B</td>\n",
       "      <td>CHIEF PROCESS OFFICER</td>\n",
       "      <td>11-1011</td>\n",
       "      <td>CHIEF EXECUTIVES</td>\n",
       "      <td>PORTS AMERICA GROUP, INC.</td>\n",
       "      <td>JERSEY CITY</td>\n",
       "      <td>HUDSON</td>\n",
       "      <td>NJ</td>\n",
       "      <td>07310</td>\n",
       "      <td>264,000.00</td>\n",
       "      <td>Year</td>\n",
       "      <td>193,066.00</td>\n",
       "      <td>Year</td>\n",
       "    </tr>\n",
       "    <tr>\n",
       "      <th>3</th>\n",
       "      <td>3</td>\n",
       "      <td>CERTIFIED-WITHDRAWN</td>\n",
       "      <td>2016-01-19</td>\n",
       "      <td>H-1B</td>\n",
       "      <td>REGIONAL PRESIDEN, AMERICAS</td>\n",
       "      <td>11-1011</td>\n",
       "      <td>CHIEF EXECUTIVES</td>\n",
       "      <td>GATES CORPORATION, A WHOLLY-OWNED SUBSIDIARY O...</td>\n",
       "      <td>DENVER</td>\n",
       "      <td>DENVER</td>\n",
       "      <td>CO</td>\n",
       "      <td>80202</td>\n",
       "      <td>220,314.00</td>\n",
       "      <td>Year</td>\n",
       "      <td>220,314.00</td>\n",
       "      <td>Year</td>\n",
       "    </tr>\n",
       "    <tr>\n",
       "      <th>4</th>\n",
       "      <td>4</td>\n",
       "      <td>WITHDRAWN</td>\n",
       "      <td>2016-05-20</td>\n",
       "      <td>H-1B</td>\n",
       "      <td>PRESIDENT MONGOLIA AND INDIA</td>\n",
       "      <td>11-1011</td>\n",
       "      <td>CHIEF EXECUTIVES</td>\n",
       "      <td>PEABODY INVESTMENTS CORP.</td>\n",
       "      <td>ST. LOUIS</td>\n",
       "      <td>ST. LOUIS</td>\n",
       "      <td>MO</td>\n",
       "      <td>63101</td>\n",
       "      <td>171.63</td>\n",
       "      <td>Hour</td>\n",
       "      <td>75.73</td>\n",
       "      <td>Hour</td>\n",
       "    </tr>\n",
       "    <tr>\n",
       "      <th>...</th>\n",
       "      <td>...</td>\n",
       "      <td>...</td>\n",
       "      <td>...</td>\n",
       "      <td>...</td>\n",
       "      <td>...</td>\n",
       "      <td>...</td>\n",
       "      <td>...</td>\n",
       "      <td>...</td>\n",
       "      <td>...</td>\n",
       "      <td>...</td>\n",
       "      <td>...</td>\n",
       "      <td>...</td>\n",
       "      <td>...</td>\n",
       "      <td>...</td>\n",
       "      <td>...</td>\n",
       "      <td>...</td>\n",
       "    </tr>\n",
       "    <tr>\n",
       "      <th>3448746</th>\n",
       "      <td>473337</td>\n",
       "      <td>Withdrawn</td>\n",
       "      <td>2020-03-11</td>\n",
       "      <td>H-1B</td>\n",
       "      <td>CHIEF MARKETING OFFICER</td>\n",
       "      <td>11-2021</td>\n",
       "      <td>MARKETING MANAGERS</td>\n",
       "      <td>SWIM.AI INC.</td>\n",
       "      <td>SAN JOSE</td>\n",
       "      <td>SANTA CLARA</td>\n",
       "      <td>CA</td>\n",
       "      <td>95113</td>\n",
       "      <td>$236,018.00</td>\n",
       "      <td>Year</td>\n",
       "      <td>NaN</td>\n",
       "      <td>NaN</td>\n",
       "    </tr>\n",
       "    <tr>\n",
       "      <th>3448747</th>\n",
       "      <td>473338</td>\n",
       "      <td>Withdrawn</td>\n",
       "      <td>2020-03-23</td>\n",
       "      <td>H-1B</td>\n",
       "      <td>PHYSICIAN (HOSPITALIST)</td>\n",
       "      <td>29-1063</td>\n",
       "      <td>INTERNISTS, GENERAL</td>\n",
       "      <td>MEMORIAL HOSPITAL OF LARAMIE COUNTY</td>\n",
       "      <td>CHEYENNE</td>\n",
       "      <td>LARAMIE</td>\n",
       "      <td>WY</td>\n",
       "      <td>82001</td>\n",
       "      <td>$250,000.00</td>\n",
       "      <td>Year</td>\n",
       "      <td>NaN</td>\n",
       "      <td>NaN</td>\n",
       "    </tr>\n",
       "    <tr>\n",
       "      <th>3448748</th>\n",
       "      <td>473339</td>\n",
       "      <td>Withdrawn</td>\n",
       "      <td>2019-10-02</td>\n",
       "      <td>H-1B</td>\n",
       "      <td>ASSISTANT PROFESSOR, INTERVENTIONAL CARDIOLOGI...</td>\n",
       "      <td>29-9099</td>\n",
       "      <td>HEALTHCARE PRACTITIONERS AND TECHNICAL WORKERS,</td>\n",
       "      <td>RUSH UNIVERSITY MEDICAL CENTER</td>\n",
       "      <td>CHICAGO</td>\n",
       "      <td>COOK</td>\n",
       "      <td>IL</td>\n",
       "      <td>60612</td>\n",
       "      <td>$285,000.00</td>\n",
       "      <td>Year</td>\n",
       "      <td>NaN</td>\n",
       "      <td>NaN</td>\n",
       "    </tr>\n",
       "    <tr>\n",
       "      <th>3448749</th>\n",
       "      <td>473340</td>\n",
       "      <td>Withdrawn</td>\n",
       "      <td>2019-10-04</td>\n",
       "      <td>H-1B</td>\n",
       "      <td>CARDIOLOGIST, ASSISTANT PROF. &amp; DIRECTOR</td>\n",
       "      <td>29-9099</td>\n",
       "      <td>HEALTHCARE PRACTITIONERS AND TECHNICAL WORKERS,</td>\n",
       "      <td>RUSH UNIVERSITY MEDICAL CENTER</td>\n",
       "      <td>CHICAGO</td>\n",
       "      <td>COOK</td>\n",
       "      <td>IL</td>\n",
       "      <td>60612</td>\n",
       "      <td>$285,000.00</td>\n",
       "      <td>Year</td>\n",
       "      <td>NaN</td>\n",
       "      <td>NaN</td>\n",
       "    </tr>\n",
       "    <tr>\n",
       "      <th>3448750</th>\n",
       "      <td>473341</td>\n",
       "      <td>Withdrawn</td>\n",
       "      <td>2019-10-10</td>\n",
       "      <td>H-1B</td>\n",
       "      <td>OBSTETRICIAN/GYNOCOLOGIST</td>\n",
       "      <td>29-1064</td>\n",
       "      <td>OBSTETRICIANS AND GYNECOLOGISTS</td>\n",
       "      <td>DREW MEMORIAL HOSPITAL, INC.</td>\n",
       "      <td>MONTICELLO</td>\n",
       "      <td>DREW</td>\n",
       "      <td>AR</td>\n",
       "      <td>71655</td>\n",
       "      <td>$325,000.00</td>\n",
       "      <td>Year</td>\n",
       "      <td>NaN</td>\n",
       "      <td>NaN</td>\n",
       "    </tr>\n",
       "  </tbody>\n",
       "</table>\n",
       "<p>3448751 rows × 16 columns</p>\n",
       "</div>"
      ],
      "text/plain": [
       "         Unnamed: 0          CASE_STATUS DECISION_DATE VISA_CLASS  \\\n",
       "0                 0  CERTIFIED-WITHDRAWN    2015-10-16       H-1B   \n",
       "1                 1  CERTIFIED-WITHDRAWN    2016-01-13       H-1B   \n",
       "2                 2  CERTIFIED-WITHDRAWN    2015-12-10       H-1B   \n",
       "3                 3  CERTIFIED-WITHDRAWN    2016-01-19       H-1B   \n",
       "4                 4            WITHDRAWN    2016-05-20       H-1B   \n",
       "...             ...                  ...           ...        ...   \n",
       "3448746      473337            Withdrawn    2020-03-11       H-1B   \n",
       "3448747      473338            Withdrawn    2020-03-23       H-1B   \n",
       "3448748      473339            Withdrawn    2019-10-02       H-1B   \n",
       "3448749      473340            Withdrawn    2019-10-04       H-1B   \n",
       "3448750      473341            Withdrawn    2019-10-10       H-1B   \n",
       "\n",
       "                                                 JOB_TITLE    SOC_CODE  \\\n",
       "0                             POSTDOCTORAL RESEARCH FELLOW  10-1021.00   \n",
       "1                                  CHIEF OPERATING OFFICER     11-1011   \n",
       "2                                    CHIEF PROCESS OFFICER     11-1011   \n",
       "3                              REGIONAL PRESIDEN, AMERICAS     11-1011   \n",
       "4                             PRESIDENT MONGOLIA AND INDIA     11-1011   \n",
       "...                                                    ...         ...   \n",
       "3448746                            CHIEF MARKETING OFFICER     11-2021   \n",
       "3448747                            PHYSICIAN (HOSPITALIST)     29-1063   \n",
       "3448748  ASSISTANT PROFESSOR, INTERVENTIONAL CARDIOLOGI...     29-9099   \n",
       "3448749           CARDIOLOGIST, ASSISTANT PROF. & DIRECTOR     29-9099   \n",
       "3448750                          OBSTETRICIAN/GYNOCOLOGIST     29-1064   \n",
       "\n",
       "                                               SOC_TITLE  \\\n",
       "0                          BIOCHEMISTS AND BIOPHYSICISTS   \n",
       "1                                       CHIEF EXECUTIVES   \n",
       "2                                       CHIEF EXECUTIVES   \n",
       "3                                       CHIEF EXECUTIVES   \n",
       "4                                       CHIEF EXECUTIVES   \n",
       "...                                                  ...   \n",
       "3448746                               MARKETING MANAGERS   \n",
       "3448747                              INTERNISTS, GENERAL   \n",
       "3448748  HEALTHCARE PRACTITIONERS AND TECHNICAL WORKERS,   \n",
       "3448749  HEALTHCARE PRACTITIONERS AND TECHNICAL WORKERS,   \n",
       "3448750                  OBSTETRICIANS AND GYNECOLOGISTS   \n",
       "\n",
       "                                             EMPLOYER_NAME WORKSITE_CITY  \\\n",
       "0                                   UNIVERSITY OF MICHIGAN     ANN ARBOR   \n",
       "1                                   GOODMAN NETWORKS, INC.         PLANO   \n",
       "2                                PORTS AMERICA GROUP, INC.   JERSEY CITY   \n",
       "3        GATES CORPORATION, A WHOLLY-OWNED SUBSIDIARY O...        DENVER   \n",
       "4                                PEABODY INVESTMENTS CORP.     ST. LOUIS   \n",
       "...                                                    ...           ...   \n",
       "3448746                                       SWIM.AI INC.      SAN JOSE   \n",
       "3448747                MEMORIAL HOSPITAL OF LARAMIE COUNTY      CHEYENNE   \n",
       "3448748                     RUSH UNIVERSITY MEDICAL CENTER       CHICAGO   \n",
       "3448749                     RUSH UNIVERSITY MEDICAL CENTER       CHICAGO   \n",
       "3448750                       DREW MEMORIAL HOSPITAL, INC.    MONTICELLO   \n",
       "\n",
       "        WORKSITE_COUNTY WORKSITE_STATE WORKSITE_POSTAL_CODE  \\\n",
       "0             WASHTENAW             MI                48109   \n",
       "1                COLLIN             TX                75093   \n",
       "2                HUDSON             NJ                07310   \n",
       "3                DENVER             CO                80202   \n",
       "4             ST. LOUIS             MO                63101   \n",
       "...                 ...            ...                  ...   \n",
       "3448746     SANTA CLARA             CA                95113   \n",
       "3448747         LARAMIE             WY                82001   \n",
       "3448748            COOK             IL                60612   \n",
       "3448749            COOK             IL                60612   \n",
       "3448750            DREW             AR                71655   \n",
       "\n",
       "        WAGE_RATE_OF_PAY_FROM WAGE_UNIT_OF_PAY PREVAILING_WAGE PW_UNIT_OF_PAY  \n",
       "0                   41,000.00             Year       36,067.00           Year  \n",
       "1                  400,000.00             Year      242,674.00           Year  \n",
       "2                  264,000.00             Year      193,066.00           Year  \n",
       "3                  220,314.00             Year      220,314.00           Year  \n",
       "4                      171.63             Hour           75.73           Hour  \n",
       "...                       ...              ...             ...            ...  \n",
       "3448746           $236,018.00             Year             NaN            NaN  \n",
       "3448747           $250,000.00             Year             NaN            NaN  \n",
       "3448748           $285,000.00             Year             NaN            NaN  \n",
       "3448749           $285,000.00             Year             NaN            NaN  \n",
       "3448750           $325,000.00             Year             NaN            NaN  \n",
       "\n",
       "[3448751 rows x 16 columns]"
      ]
     },
     "execution_count": 4,
     "metadata": {},
     "output_type": "execute_result"
    }
   ],
   "source": [
    "# Import CSV file to Dataframe\n",
    "\n",
    "df = pd.read_csv(\"H1B_5Y.csv\")\n",
    "df_col = pd.read_csv(\"col_wpr.csv\")\n",
    "df_geo = pd.read_csv(\"emp_city_geocodes.csv\")\n",
    "df_pop = pd.read_csv(\"nst-est2019-alldata.csv\")\n",
    "df = df.reset_index(drop=True)\n",
    "df"
   ]
  },
  {
   "cell_type": "code",
   "execution_count": 5,
   "metadata": {},
   "outputs": [
    {
     "name": "stdout",
     "output_type": "stream",
     "text": [
      "<class 'pandas.core.frame.DataFrame'>\n",
      "RangeIndex: 3448751 entries, 0 to 3448750\n",
      "Data columns (total 16 columns):\n",
      " #   Column                 Dtype \n",
      "---  ------                 ----- \n",
      " 0   Unnamed: 0             int64 \n",
      " 1   CASE_STATUS            object\n",
      " 2   DECISION_DATE          object\n",
      " 3   VISA_CLASS             object\n",
      " 4   JOB_TITLE              object\n",
      " 5   SOC_CODE               object\n",
      " 6   SOC_TITLE              object\n",
      " 7   EMPLOYER_NAME          object\n",
      " 8   WORKSITE_CITY          object\n",
      " 9   WORKSITE_COUNTY        object\n",
      " 10  WORKSITE_STATE         object\n",
      " 11  WORKSITE_POSTAL_CODE   object\n",
      " 12  WAGE_RATE_OF_PAY_FROM  object\n",
      " 13  WAGE_UNIT_OF_PAY       object\n",
      " 14  PREVAILING_WAGE        object\n",
      " 15  PW_UNIT_OF_PAY         object\n",
      "dtypes: int64(1), object(15)\n",
      "memory usage: 421.0+ MB\n"
     ]
    }
   ],
   "source": [
    "# Check the overview of the data\n",
    "\n",
    "df.shape\n",
    "df.info()"
   ]
  },
  {
   "cell_type": "markdown",
   "metadata": {},
   "source": [
    "We can see that it has 3448751 of rows. <br> <br> \n",
    "  "
   ]
  },
  {
   "cell_type": "markdown",
   "metadata": {},
   "source": [
    "## 2. Data Cleaning\n",
    "  \n",
    "<br>\n",
    "   \n",
    "* Features in 5 years of data are slightly different. Moreover, it has typo and inconsistent data. let's clean up!\n",
    "<br>\n",
    "<br>"
   ]
  },
  {
   "cell_type": "code",
   "execution_count": 6,
   "metadata": {},
   "outputs": [
    {
     "data": {
      "text/plain": [
       "0"
      ]
     },
     "execution_count": 6,
     "metadata": {},
     "output_type": "execute_result"
    }
   ],
   "source": [
    "# Drop the missing values\n",
    "\n",
    "df.dropna(inplace = True)\n",
    "df.isna( ).sum().sum()"
   ]
  },
  {
   "cell_type": "code",
   "execution_count": 7,
   "metadata": {},
   "outputs": [
    {
     "data": {
      "text/plain": [
       "25             90.0\n",
       "65         221541.0\n",
       "66         198266.0\n",
       "67         221541.0\n",
       "68         187075.0\n",
       "             ...   \n",
       "3413704    345796.0\n",
       "3413705    349200.0\n",
       "3413706    380151.0\n",
       "3413707    431637.0\n",
       "3413708    760202.0\n",
       "Name: PREVAILING_WAGE_Float, Length: 2640398, dtype: float64"
      ]
     },
     "execution_count": 7,
     "metadata": {},
     "output_type": "execute_result"
    }
   ],
   "source": [
    "# Cleaning the case status and leave Certified case only\n",
    "\n",
    "df['CASE_STATUS'].str.lower().unique()\n",
    "df['CASE_STATUS'] = df['CASE_STATUS'].str.lower()\n",
    "df = df[df['CASE_STATUS'] == 'certified']\n",
    "\n",
    "\n",
    "# Creating 'year' column from Decision date and cleaning the data\n",
    "\n",
    "df[\"year\"] = pd.to_datetime(df[\"DECISION_DATE\"])\n",
    "df[\"year\"] = df[\"year\"].dt.year\n",
    "df[\"year\"].head()\n",
    "df = df[df['year'] > 2015]\n",
    "\n",
    "# Replace the unnecessary dollar sign($) from Prevailing wage and change to float\n",
    "\n",
    "df['PREVAILING_WAGE_Float'] = df['PREVAILING_WAGE'].astype('str').str.replace('$',\"\")\n",
    "df['PREVAILING_WAGE_Float'] = df['PREVAILING_WAGE_Float'].str.replace(',',\"\").astype('float')\n",
    "df['PREVAILING_WAGE_Float']\n"
   ]
  },
  {
   "cell_type": "markdown",
   "metadata": {},
   "source": [
    "<br>\n",
    "WORKSTIE_STATE is mixture of original and abbreviation. We will use tha data from df_col to clean.\n",
    "<br>"
   ]
  },
  {
   "cell_type": "code",
   "execution_count": 8,
   "metadata": {},
   "outputs": [
    {
     "data": {
      "text/plain": [
       "array(['CA', 'FL', 'GA', 'VA', 'PA', 'TX', 'MI', 'NY', 'IL', 'MD', 'MO',\n",
       "       'OH', 'MA', 'NV', 'NC', 'DC', 'MN', 'AZ', 'WA', 'CO', 'TN', 'NJ',\n",
       "       'MS', 'IN', 'UT', 'DE', 'VI', 'KS', 'WI', 'CT', 'MP', 'NE', 'GU',\n",
       "       'OK', 'AR', 'KY', 'PR', 'HI', 'AK', 'SC', 'IA', 'WY', 'LA', 'NM',\n",
       "       'WV', 'RI', 'SD', 'OR', 'ND', 'ME', 'AL', 'VT', 'NH', 'MT', 'ID',\n",
       "       'MH', 'PW', 'FM', 'NEW YORK', 'CALIFORNIA', 'MARYLAND', 'ILLINOIS',\n",
       "       'FLORIDA', 'OREGON', 'WASHINGTON', 'TEXAS', 'HAWAII', 'ARIZONA',\n",
       "       'VIRGINIA', 'OHIO', 'GEORGIA', 'PENNSYLVANIA', 'CONNECTICUT',\n",
       "       'DISTRICT OF COLUMBIA', 'NEW JERSEY', 'NORTH CAROLINA', 'UTAH',\n",
       "       'DELAWARE', 'TENNESSEE', 'MICHIGAN', 'NEVADA', 'KENTUCKY',\n",
       "       'MISSISSIPPI', 'MASSACHUSETTS', 'MINNESOTA', 'COLORADO', 'INDIANA',\n",
       "       'KANSAS', 'NORTHERN MARIANA ISLANDS', 'WISCONSIN', 'IDAHO',\n",
       "       'MISSOURI', 'LOUISIANA', 'PUERTO RICO', 'VIRGIN ISLANDS',\n",
       "       'OKLAHOMA', 'SOUTH CAROLINA', 'ARKANSAS', 'IOWA', 'GUAM', 'ALASKA',\n",
       "       'RHODE ISLAND', 'NEW HAMPSHIRE', 'WYOMING', 'NORTH DAKOTA',\n",
       "       'ALABAMA', 'NEW MEXICO', 'WEST VIRGINIA', 'NEBRASKA', 'MAINE',\n",
       "       'SOUTH DAKOTA', 'MONTANA', 'VERMONT', 'MARSHALL ISLANDS'],\n",
       "      dtype=object)"
      ]
     },
     "execution_count": 8,
     "metadata": {},
     "output_type": "execute_result"
    }
   ],
   "source": [
    "df['WORKSITE_STATE'].unique()"
   ]
  },
  {
   "cell_type": "code",
   "execution_count": 9,
   "metadata": {},
   "outputs": [],
   "source": [
    "#Get the state name and code and change them into Dictionary\n",
    "\n",
    "states = df_col[['state','state_code']]\n",
    "states['state'] = states['state'].str.upper()\n",
    "mydict = dict(zip(states.state, states.state_code))\n",
    "\n",
    "\n",
    "# Replace original state name in to abbreviation\n",
    "\n",
    "for long, short in mydict.items():\n",
    "    df['WORKSITE_STATE'] = df['WORKSITE_STATE'].str.replace(long, short)\n",
    "\n",
    "\n",
    "# Drop typos and unchanged values\n",
    "    \n",
    "df = df[df['WORKSITE_STATE'].str.len() == 2]\n"
   ]
  },
  {
   "cell_type": "markdown",
   "metadata": {},
   "source": [
    "<br>\n",
    "\n",
    "## 3. Data Analysis\n",
    "<br>\n",
    "\n",
    "### a) Top 10 states that have most certified H-1B visa application\n",
    "\n",
    "<br><br>"
   ]
  },
  {
   "cell_type": "code",
   "execution_count": 10,
   "metadata": {},
   "outputs": [],
   "source": [
    "# California (CA), New york (NY) need to be replaced to CA and NY\n",
    "\n",
    "df['WORKSITE_STATE'] = df['WORKSITE_STATE'].replace(\"CALIFORNIA\",\"CA\").replace(\"NEW YORK\",\"NY\")\n",
    "df['WORKSITE_STATE'] = df['WORKSITE_STATE'].replace(\"New York\",\"NEW YORK\")\n",
    "df_top10 = pd.DataFrame(df['WORKSITE_STATE'].value_counts().reset_index())\n",
    "df_top10.columns = ['WORKSITE_STATE','H1B COUNT']\n",
    "df_top10\n",
    "\n",
    "\n",
    "\n",
    "# Create the new column that shows H-1B visa per population of the each state\n",
    "df_top10.insert(2, \"POP_19\", df_top10['WORKSITE_STATE'].map(df_pop.set_index('CODE')['POPESTIMATE2019']))\n",
    "df_top10['H1B_PER_POP'] = df_top10['H1B COUNT'] / df_top10['POP_19']\n",
    "df_top10 = df_top10.sort_values('H1B_PER_POP',ascending=False).head(10)\n",
    "\n"
   ]
  },
  {
   "cell_type": "code",
   "execution_count": 11,
   "metadata": {},
   "outputs": [
    {
     "data": {
      "text/plain": [
       "Text(0.5, 1.0, '')"
      ]
     },
     "execution_count": 11,
     "metadata": {},
     "output_type": "execute_result"
    },
    {
     "data": {
      "image/png": "[encoded data removed]",
      "text/plain": [
       "<Figure size 720x360 with 1 Axes>"
      ]
     },
     "metadata": {
      "needs_background": "light"
     },
     "output_type": "display_data"
    }
   ],
   "source": [
    "# Draw plot\n",
    "plt.figure(figsize=(10,5))\n",
    "sns.barplot(x=df_top10['H1B_PER_POP'], y=df_top10['WORKSITE_STATE'], data = df_top10, order=df_top10.sort_values('H1B_PER_POP').WORKSITE_STATE)\n",
    "plt.xticks(rotation=20)\n",
    "plt.xlabel('')\n",
    "plt.ylabel('')\n",
    "plt.title('',fontdict = {'fontsize' : 15})"
   ]
  },
  {
   "cell_type": "markdown",
   "metadata": {},
   "source": [
    "<br><br>\n",
    "### b) Normalize the PREVAILING_WAGE and divide by the cost of living index\n",
    "<br>"
   ]
  },
  {
   "cell_type": "code",
   "execution_count": 12,
   "metadata": {},
   "outputs": [
    {
     "data": {
      "text/plain": [
       "Year         2468012\n",
       "Hour          165900\n",
       "Month           1761\n",
       "Week             664\n",
       "Bi-Weekly        462\n",
       "Name: WAGE_UNIT_OF_PAY, dtype: int64"
      ]
     },
     "execution_count": 12,
     "metadata": {},
     "output_type": "execute_result"
    }
   ],
   "source": [
    "# Check the cases of PREVAILING_WAGE since 'hourly', 'Yearly','Weekly' data are mixed up\n",
    "\n",
    "df['WAGE_UNIT_OF_PAY'].value_counts()"
   ]
  },
  {
   "cell_type": "code",
   "execution_count": 13,
   "metadata": {
    "scrolled": true
   },
   "outputs": [
    {
     "data": {
      "text/plain": [
       "25         1234.014502\n",
       "65         2262.931563\n",
       "66         2222.713004\n",
       "67         2262.931563\n",
       "68         1857.745780\n",
       "              ...     \n",
       "3413704    3605.797706\n",
       "3413705    3783.315276\n",
       "3413706    3038.776978\n",
       "3413707    4567.587302\n",
       "3413708    5011.219512\n",
       "Name: PREVAILING_WAGE_NORM_INDEX, Length: 2621944, dtype: float64"
      ]
     },
     "execution_count": 13,
     "metadata": {},
     "output_type": "execute_result"
    }
   ],
   "source": [
    "# Map each unit into yearly data\n",
    "\n",
    "salary_normalizer = {\"Year\":1, \"Hour\": 2080, \"Month\": 12, \"Bi-Weekly\": 24}\n",
    "df[\"pw_normalizer\"] = df[\"PW_UNIT_OF_PAY\"].map(salary_normalizer)\n",
    "df[\"PREVAILING_WAGE_NORM\"] = df[\"PREVAILING_WAGE_Float\"] * df[\"pw_normalizer\"]\n",
    "df[\"PREVAILING_WAGE_NORM\"]\n",
    "\n",
    "\n",
    "# Insert cost of living index according to the WORKSITE_STATE\n",
    "\n",
    "df.insert(2, \"COST_OF_LIVING_INDEX\", df['WORKSITE_STATE'].map(df_col.set_index('state_code')['costIndex']))\n",
    "\n",
    "\n",
    "# Divide PREVAILING_WAGE_NORM_INDEX by COST_OF_LIVING_INDEX to create PREVAILING_WAGE_NORM_INDEX\n",
    "\n",
    "df[\"PREVAILING_WAGE_NORM_INDEX\"] = df[\"PREVAILING_WAGE_NORM\"] / df[\"COST_OF_LIVING_INDEX\"]\n",
    "df.dropna(inplace = True)\n",
    "df[\"PREVAILING_WAGE_NORM_INDEX\"]"
   ]
  },
  {
   "cell_type": "markdown",
   "metadata": {},
   "source": [
    "<br><br>\n",
    "### C) Sort out the STEM job and compare the mean PREVAILING_WAGE_NORM_INDEX by states\n",
    "\n",
    "* According to SOC_CODE from OFLC, below can be cassifited into STEM job\n",
    "\n",
    "13-0000\tBusiness and Financial Operations Occupations<br>\n",
    "15-0000\tComputer and Mathematical Occupations<br>\n",
    "17-0000\tArchitecture and Engineering Occupations<br>\n",
    "19-0000\tLife, Physical, and Social Science Occupations<br>\n",
    "29-0000\tHealthcare Practitioners and Technical Occupations<br>\n",
    "31-0000\tHealthcare Support Occupations<br>\n",
    "<br>"
   ]
  },
  {
   "cell_type": "code",
   "execution_count": 14,
   "metadata": {},
   "outputs": [],
   "source": [
    "# Sort out STEM job only.\n",
    "\n",
    "df_STEM = df[df['SOC_CODE'].str[:2] == (\"13\" or \"15\" or '17' or '19' or '29' or '31')]"
   ]
  },
  {
   "cell_type": "code",
   "execution_count": 15,
   "metadata": {},
   "outputs": [
    {
     "data": {
      "text/plain": [
       "<matplotlib.axes._subplots.AxesSubplot at 0x2178a542448>"
      ]
     },
     "execution_count": 15,
     "metadata": {},
     "output_type": "execute_result"
    },
    {
     "data": {
      "image/png": "[encoded data removed]",
      "text/plain": [
       "<Figure size 432x288 with 1 Axes>"
      ]
     },
     "metadata": {
      "needs_background": "light"
     },
     "output_type": "display_data"
    }
   ],
   "source": [
    "# The number of STEM job by states\n",
    "\n",
    "df_STEM['WORKSITE_STATE'].value_counts().head(10).sort_values().plot(kind='barh')"
   ]
  },
  {
   "cell_type": "code",
   "execution_count": 16,
   "metadata": {},
   "outputs": [
    {
     "data": {
      "text/plain": [
       "<matplotlib.axes._subplots.AxesSubplot at 0x2178a63f548>"
      ]
     },
     "execution_count": 16,
     "metadata": {},
     "output_type": "execute_result"
    },
    {
     "data": {
      "image/png": "[encoded data removed]",
      "text/plain": [
       "<Figure size 432x288 with 1 Axes>"
      ]
     },
     "metadata": {
      "needs_background": "light"
     },
     "output_type": "display_data"
    }
   ],
   "source": [
    "# List of the best mean normalized salary by states\n",
    "\n",
    "df_STEM.groupby('WORKSITE_STATE').mean()['PREVAILING_WAGE_NORM_INDEX'].head(10).sort_values().plot(kind='barh')"
   ]
  },
  {
   "cell_type": "markdown",
   "metadata": {},
   "source": [
    "<br>\n",
    "* Features in 5 years of data are slightly different. Moreover, it has typo and inconsistent data. let's clean up!\n"
   ]
  },
  {
   "cell_type": "markdown",
   "metadata": {},
   "source": [
    "<br><br>\n",
    "### D) Plotting the number of STEM jobs by citis on the map\n",
    "<br>"
   ]
  },
  {
   "cell_type": "code",
   "execution_count": 17,
   "metadata": {},
   "outputs": [],
   "source": [
    "# Create the list contains longitute and Latituge of \n",
    "df_STEM_city = pd.DataFrame(df_STEM.groupby('WORKSITE_CITY')['WORKSITE_CITY'].count())\n",
    "df_STEM_city.columns = ['WORKSITE_CITY_COUNT']\n",
    "df_STEM_city.reset_index()\n",
    "df_STEM_city = pd.merge(df_STEM_city, df_geo, how='left', left_on='WORKSITE_CITY', right_on='EMPLOYER_CITY')\n",
    "cities = df_STEM_city[['lon','lat','WORKSITE_CITY_COUNT']].values.tolist()\n",
    "\n",
    "\n"
   ]
  },
  {
   "cell_type": "code",
   "execution_count": 20,
   "metadata": {},
   "outputs": [
    {
     "data": {
      "image/png": "[encoded data removed]",
      "text/plain": [
       "<Figure size 720x720 with 1 Axes>"
      ]
     },
     "metadata": {},
     "output_type": "display_data"
    }
   ],
   "source": [
    "# draw tha map and plot the value\n",
    "\n",
    "plt.figure(figsize=(10,10))\n",
    "map = Basemap(llcrnrlon=-119,llcrnrlat=22,urcrnrlon=-64,urcrnrlat=49,\n",
    "        projection='lcc',lat_1=32,lat_2=45,lon_0=-95)\n",
    "map.drawmapboundary()\n",
    "map.drawcoastlines()\n",
    "map.drawstates()\n",
    "map.drawcountries()\n",
    "\n",
    "\n",
    "# Get the location of each city and plot it\n",
    "for (lon,lat,count) in cities:\n",
    "    x, y = map(lon, lat)\n",
    "    map.plot(x,y,marker='o',color='blue', markersize=math.sqrt(count)*0.2)\n",
    "plt.show()"
   ]
  }
 ],
 "metadata": {
  "kernelspec": {
   "display_name": "Python 3",
   "language": "python",
   "name": "python3"
  },
  "language_info": {
   "codemirror_mode": {
    "name": "ipython",
    "version": 3
   },
   "file_extension": ".py",
   "mimetype": "text/x-python",
   "name": "python",
   "nbconvert_exporter": "python",
   "pygments_lexer": "ipython3",
   "version": "3.7.6"
  }
 },
 "nbformat": 4,
 "nbformat_minor": 4
}
